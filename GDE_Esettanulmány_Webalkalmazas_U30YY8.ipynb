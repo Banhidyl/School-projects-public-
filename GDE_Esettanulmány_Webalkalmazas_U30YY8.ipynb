{
  "nbformat": 4,
  "nbformat_minor": 0,
  "metadata": {
    "colab": {
      "provenance": [],
      "authorship_tag": "ABX9TyPsudab55F9xRiXmIxt8p9e",
      "include_colab_link": true
    },
    "kernelspec": {
      "name": "python3",
      "display_name": "Python 3"
    },
    "language_info": {
      "name": "python"
    }
  },
  "cells": [
    {
      "cell_type": "markdown",
      "metadata": {
        "id": "view-in-github",
        "colab_type": "text"
      },
      "source": [
        "<a href=\"https://colab.research.google.com/github/Banhidyl/School-projects-public-/blob/main/GDE_Esettanulm%C3%A1ny_Webalkalmazas_U30YY8.ipynb\" target=\"_parent\"><img src=\"https://colab.research.google.com/assets/colab-badge.svg\" alt=\"Open In Colab\"/></a>"
      ]
    },
    {
      "cell_type": "code",
      "execution_count": 14,
      "metadata": {
        "colab": {
          "base_uri": "https://localhost:8080/"
        },
        "id": "RMzgJxSDPmOz",
        "outputId": "9bf202f3-24fb-44ff-e853-5ad59a0eca92"
      },
      "outputs": [
        {
          "output_type": "stream",
          "name": "stdout",
          "text": [
            "Looking in indexes: https://pypi.org/simple, https://us-python.pkg.dev/colab-wheels/public/simple/\n",
            "Requirement already satisfied: mysql-connector-python in /usr/local/lib/python3.9/dist-packages (8.0.32)\n",
            "Requirement already satisfied: protobuf<=3.20.3,>=3.11.0 in /usr/local/lib/python3.9/dist-packages (from mysql-connector-python) (3.19.6)\n",
            "Chloe Robinson\n",
            "Henry Garcia\n",
            "Ella Patel\n",
            "Liam Nguyen\n",
            "Avery Kim\n",
            "Nathan Perez\n",
            "Isabella Lee\n",
            "Michael Chang\n",
            "Grace Mitchell\n",
            "Ethan Davis\n"
          ]
        }
      ],
      "source": [
        "!pip install mysql-connector-python\n",
        "\n",
        "import mysql.connector as mysql\n",
        "\n",
        "# Csatlakozás az ingyenes adatbázishoz (db4free.net)\n",
        "db = mysql.connect(\n",
        "  host=\"db4free.net\",\n",
        "  user=\"banhidy_levente\",\n",
        "  password=\"neptunkod:U30YY8\",\n",
        "  database=\"orienteering_tan\"\n",
        ")\n",
        "\n",
        "# Kurzor létrehozása\n",
        "cursor = db.cursor()\n",
        "\n",
        "# SQL Parancs a kurzorral\n",
        "cursor.execute(\"SELECT Name FROM orienteers\")\n",
        "\n",
        "# Minden sorra vonatkozzon a kijelölés\n",
        "rows = cursor.fetchall()\n",
        "\n",
        "# Nevek kiírása\n",
        "for row in rows:\n",
        "  print(row[0])\n",
        "\n",
        "# Lezárások\n",
        "cursor.close()\n",
        "db.close()\n"
      ]
    }
  ]
}